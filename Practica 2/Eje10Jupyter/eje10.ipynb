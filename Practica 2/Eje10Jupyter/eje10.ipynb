{
 "cells": [
  {
   "cell_type": "markdown",
   "metadata": {},
   "source": [
    "![python](python-banner.jpg)"
   ]
  },
  {
   "cell_type": "markdown",
   "metadata": {},
   "source": [
    "# EJERCICIO 10\n"
   ]
  },
  {
   "cell_type": "markdown",
   "metadata": {},
   "source": [
    "### Indice\n",
    "0. [Enunciado](#Enunciado)\n",
    "1. [Abriendo los Archivos](#introduction)\n",
    "2. [Texto a lista](#texto)\n",
    "3. [Creando el diccionario](#primera)\n",
    "4. [Sacando el promedio](#segunda)\n",
    "5. [Imprimir](#tercera)\n",
    "6. [Programa principal](#final)"
   ]
  },
  {
   "cell_type": "markdown",
   "metadata": {},
   "source": [
    "## Enunciado: <a class=\"anchor\" id=\"introduction\"></a>\n",
    "Trabajando con los contenidos de los archivos que pueden acceder en el curso: nombres, eval1 y eval2\n",
    "\n",
    "Manipule estos archivos para realizar lo siguiente:\n",
    "\n",
    "• Generar una estructura con los nombres de los estudiantes y la suma de ambas notas.\n",
    "\n",
    "• Calcular el promedio de las notas totales e informar que alumnos obtuvieron menos que el\n",
    "promedio.\n"
   ]
  },
  {
   "cell_type": "markdown",
   "metadata": {},
   "source": [
    "## Abriendo los Archivos: <<a class=\"anchor\" id=\"first-bullet\"></a>>\n",
    "\n",
    "**Abro los documentos de texto eval1, eval2 y _nombres_1.txt (tuve que agregarle guion**\n",
    "**porque me saltaba como un salto de lineas el \\-n)**\n",
    "**Al documento de texto de nombres, lo codifico a utf8 para que me lo tome como strings.**\n"
   ]
  },
  {
   "cell_type": "code",
   "execution_count": null,
   "metadata": {},
   "outputs": [],
   "source": [
    "archivo_eval1 = open('Practica 2\\eval1.txt')\n",
    "archivo_eval2 = open('Practica 2\\eval2.txt')\n",
    "archivo_names = open(\"Practica 2\\_nombres_1.txt\",encoding='utf8')"
   ]
  },
  {
   "cell_type": "markdown",
   "metadata": {},
   "source": [
    "\n",
    "\n",
    "## Texto a lista: <a class=\"anchor\" id=\"texto\"></a>\n",
    "**Transformo los archivos de texto en listas**\n"
   ]
  },
  {
   "cell_type": "code",
   "execution_count": null,
   "metadata": {},
   "outputs": [],
   "source": [
    "eval1 = archivo_eval1.read()\n",
    "eval1 = eval1.replace(\",\", \"\").split()\n",
    "eval2 = archivo_eval2.read()\n",
    "eval2 = eval2.replace(\",\", \"\").split()\n",
    "names = archivo_names.read()\n",
    "names = names.replace(\",\", \"\").replace(\"'\", \"\").split()"
   ]
  },
  {
   "cell_type": "markdown",
   "metadata": {},
   "source": [
    "### Primera funcion: <a class=\"anchor\" id=\"primera\"></a>\n",
    "**Hago una funcion, le paso las listas de nombres,evaluaciones 1 y 2 para armar un diccionario agregandole un numero adelante para diferenciar los nombres repetidos y lo retorno.**"
   ]
  },
  {
   "cell_type": "code",
   "execution_count": null,
   "metadata": {},
   "outputs": [],
   "source": [
    "def fusion_into_dict(names,eval1,eval2):\n",
    "    dict = {}\n",
    "    for i in range(len(names)):\n",
    "        note = int(eval1[i]) + int(eval2[i])\n",
    "        dict [f\"{i}_{names[i]}\"] = note\n",
    "    return dict"
   ]
  },
  {
   "cell_type": "markdown",
   "metadata": {},
   "source": [
    "### Segunda funcion: <a class=\"anchor\" id=\"segunda\"></a>\n",
    "**Creo una funcion recorriendo las notas del diccionario y sumandolas para luego calcular y retornar el promedio de todas las notas.**"
   ]
  },
  {
   "cell_type": "code",
   "execution_count": null,
   "metadata": {},
   "outputs": [],
   "source": [
    "def cal_prom (students):\n",
    "    total = 0\n",
    "    for note in students.values():\n",
    "        total += note\n",
    "    prom = total / len(students)\n",
    "    return prom"
   ]
  },
  {
   "cell_type": "markdown",
   "metadata": {},
   "source": [
    "### Funcion de imprimir: <a class=\"anchor\" id=\"tercera\"></a>\n",
    "**Defino otra funcion para la impresion de aquellos estudiantes que esten debajo del promedio.**"
   ]
  },
  {
   "cell_type": "code",
   "execution_count": null,
   "metadata": {},
   "outputs": [],
   "source": [
    "def underscore_students (students,prom):\n",
    "    for name, note in students.items():\n",
    "        if note < prom :\n",
    "            print (\"El alumno: \" + name + \" con nota: \",note, \"se encuentra debajo del promedio\")"
   ]
  },
  {
   "cell_type": "markdown",
   "metadata": {},
   "source": [
    "### Final: <a class=\"anchor\" id=\"final\"></a>\n",
    "**Programa principal: llamo a las funciones pasandole sus respectivos parametros.**"
   ]
  },
  {
   "cell_type": "code",
   "execution_count": null,
   "metadata": {},
   "outputs": [],
   "source": [
    "students = fusion_into_dict(names,eval1,eval2)\n",
    "prom = cal_prom(students)\n",
    "underscore_students(students,prom)"
   ]
  },
  {
   "cell_type": "markdown",
   "metadata": {},
   "source": [
    "**Autor Dylan Andrada**"
   ]
  }
 ],
 "metadata": {
  "interpreter": {
   "hash": "fbf35cec1d6522d17b7d6167e7b6fb62d38f92bd98194ea17de11e2be654ade7"
  },
  "kernelspec": {
   "display_name": "Python 3.10.3 64-bit",
   "language": "python",
   "name": "python3"
  },
  "language_info": {
   "codemirror_mode": {
    "name": "ipython",
    "version": 3
   },
   "file_extension": ".py",
   "mimetype": "text/x-python",
   "name": "python",
   "nbconvert_exporter": "python",
   "pygments_lexer": "ipython3",
   "version": "3.10.3"
  },
  "orig_nbformat": 4
 },
 "nbformat": 4,
 "nbformat_minor": 2
}
